{
 "cells": [
  {
   "cell_type": "code",
   "execution_count": 20,
   "metadata": {},
   "outputs": [],
   "source": [
    "import matplotlib.pyplot as plt\n",
    "import pandas as pd\n",
    "import numpy as np\n",
    "\n",
    "from pyfooty.src.club import Club\n",
    "from matplotlib.ticker import MultipleLocator"
   ]
  },
  {
   "cell_type": "markdown",
   "metadata": {},
   "source": [
    "We will instantiate a `Club` object with `name=\"Chelsea FC\"` and `year=2020`.  A `UserWarning` will be raised stating that an exact match for the `name` query wasn't found, and is set to the first search result."
   ]
  },
  {
   "cell_type": "code",
   "execution_count": 2,
   "metadata": {},
   "outputs": [
    {
     "name": "stderr",
     "output_type": "stream",
     "text": [
      "/Users/raymatsumoto/side-projects/pyfooty/pyfooty/src/club.py:171: UserWarning: Exact match for Chelsea FC not found.  Setting `name` to first search result: Chelsea FC\n",
      "  warnings.warn(msg)\n"
     ]
    }
   ],
   "source": [
    "chelsea = Club(\"Chelsea FC\", 2020)"
   ]
  },
  {
   "cell_type": "markdown",
   "metadata": {},
   "source": [
    "To look up the valid tables available for Chelsea in 2020, we will call the `valid_tables` attribute, which returns a tuple of all valid tables available to scrape from FBRef."
   ]
  },
  {
   "cell_type": "code",
   "execution_count": 3,
   "metadata": {},
   "outputs": [
    {
     "data": {
      "text/plain": [
       "('Standard Stats',\n",
       " 'Scores & Fixtures',\n",
       " 'Goalkeeping',\n",
       " 'Advanced Goalkeeping',\n",
       " 'Shooting',\n",
       " 'Passing',\n",
       " 'Pass Types',\n",
       " 'Goal and Shot Creation',\n",
       " 'Defensive Actions',\n",
       " 'Possession',\n",
       " 'Playing Time',\n",
       " 'Miscellaneous Stats',\n",
       " 'Regular Season, Premier League')"
      ]
     },
     "execution_count": 3,
     "metadata": {},
     "output_type": "execute_result"
    }
   ],
   "source": [
    "chelsea.valid_tables"
   ]
  },
  {
   "cell_type": "markdown",
   "metadata": {},
   "source": [
    "We will first look at the \"Scores & Fixtures\" table to look at overall trends of the club for 2020.  Since not all matches for the season have been played yet, we will remove the rows that don't yet have a result."
   ]
  },
  {
   "cell_type": "code",
   "execution_count": 4,
   "metadata": {},
   "outputs": [],
   "source": [
    "scores = chelsea.get_table(\"Scores & Fixtures\")\n",
    "scores.replace('', np.nan, inplace=True)\n",
    "scores.dropna(subset=[\"result\"], inplace=True)"
   ]
  },
  {
   "cell_type": "code",
   "execution_count": 5,
   "metadata": {},
   "outputs": [
    {
     "data": {
      "text/html": [
       "<div>\n",
       "<style scoped>\n",
       "    .dataframe tbody tr th:only-of-type {\n",
       "        vertical-align: middle;\n",
       "    }\n",
       "\n",
       "    .dataframe tbody tr th {\n",
       "        vertical-align: top;\n",
       "    }\n",
       "\n",
       "    .dataframe thead th {\n",
       "        text-align: right;\n",
       "    }\n",
       "</style>\n",
       "<table border=\"1\" class=\"dataframe\">\n",
       "  <thead>\n",
       "    <tr style=\"text-align: right;\">\n",
       "      <th></th>\n",
       "      <th>time</th>\n",
       "      <th>comp</th>\n",
       "      <th>round</th>\n",
       "      <th>dayofweek</th>\n",
       "      <th>venue</th>\n",
       "      <th>result</th>\n",
       "      <th>goals_for</th>\n",
       "      <th>goals_against</th>\n",
       "      <th>opponent</th>\n",
       "      <th>xg_for</th>\n",
       "      <th>xg_against</th>\n",
       "      <th>possession</th>\n",
       "      <th>attendance</th>\n",
       "      <th>captain</th>\n",
       "      <th>formation</th>\n",
       "      <th>referee</th>\n",
       "      <th>match_report</th>\n",
       "      <th>notes</th>\n",
       "    </tr>\n",
       "  </thead>\n",
       "  <tbody>\n",
       "    <tr>\n",
       "      <th>0</th>\n",
       "      <td>20:15</td>\n",
       "      <td>Premier League</td>\n",
       "      <td>Matchweek 1</td>\n",
       "      <td>Mon</td>\n",
       "      <td>Away</td>\n",
       "      <td>W</td>\n",
       "      <td>3</td>\n",
       "      <td>1</td>\n",
       "      <td>Brighton</td>\n",
       "      <td>1.2</td>\n",
       "      <td>1.4</td>\n",
       "      <td>47.0</td>\n",
       "      <td>NaN</td>\n",
       "      <td>Jorginho</td>\n",
       "      <td>4-2-2-2</td>\n",
       "      <td>Craig Pawson</td>\n",
       "      <td>Match Report</td>\n",
       "      <td>NaN</td>\n",
       "    </tr>\n",
       "    <tr>\n",
       "      <th>1</th>\n",
       "      <td>16:30</td>\n",
       "      <td>Premier League</td>\n",
       "      <td>Matchweek 2</td>\n",
       "      <td>Sun</td>\n",
       "      <td>Home</td>\n",
       "      <td>L</td>\n",
       "      <td>0</td>\n",
       "      <td>2</td>\n",
       "      <td>Liverpool</td>\n",
       "      <td>1.0</td>\n",
       "      <td>2.6</td>\n",
       "      <td>39.0</td>\n",
       "      <td>NaN</td>\n",
       "      <td>Jorginho</td>\n",
       "      <td>4-3-3</td>\n",
       "      <td>Paul Tierney</td>\n",
       "      <td>Match Report</td>\n",
       "      <td>NaN</td>\n",
       "    </tr>\n",
       "    <tr>\n",
       "      <th>2</th>\n",
       "      <td>19:45</td>\n",
       "      <td>EFL Cup</td>\n",
       "      <td>Third round</td>\n",
       "      <td>Wed</td>\n",
       "      <td>Home</td>\n",
       "      <td>W</td>\n",
       "      <td>6</td>\n",
       "      <td>0</td>\n",
       "      <td>Barnsley</td>\n",
       "      <td>NaN</td>\n",
       "      <td>NaN</td>\n",
       "      <td>69.0</td>\n",
       "      <td>NaN</td>\n",
       "      <td>César Azpilicueta</td>\n",
       "      <td>4-2-3-1</td>\n",
       "      <td>Darren Bond</td>\n",
       "      <td>Match Report</td>\n",
       "      <td>NaN</td>\n",
       "    </tr>\n",
       "    <tr>\n",
       "      <th>3</th>\n",
       "      <td>17:30</td>\n",
       "      <td>Premier League</td>\n",
       "      <td>Matchweek 3</td>\n",
       "      <td>Sat</td>\n",
       "      <td>Away</td>\n",
       "      <td>D</td>\n",
       "      <td>3</td>\n",
       "      <td>3</td>\n",
       "      <td>West Brom</td>\n",
       "      <td>2.2</td>\n",
       "      <td>1.0</td>\n",
       "      <td>75.0</td>\n",
       "      <td>NaN</td>\n",
       "      <td>Thiago Silva</td>\n",
       "      <td>4-2-3-1</td>\n",
       "      <td>Jonathan Moss</td>\n",
       "      <td>Match Report</td>\n",
       "      <td>NaN</td>\n",
       "    </tr>\n",
       "    <tr>\n",
       "      <th>4</th>\n",
       "      <td>19:45</td>\n",
       "      <td>EFL Cup</td>\n",
       "      <td>Fourth round</td>\n",
       "      <td>Tue</td>\n",
       "      <td>Away</td>\n",
       "      <td>L</td>\n",
       "      <td>1 (4)</td>\n",
       "      <td>1 (5)</td>\n",
       "      <td>Tottenham</td>\n",
       "      <td>NaN</td>\n",
       "      <td>NaN</td>\n",
       "      <td>63.0</td>\n",
       "      <td>NaN</td>\n",
       "      <td>César Azpilicueta</td>\n",
       "      <td>4-2-3-1</td>\n",
       "      <td>Lee Mason</td>\n",
       "      <td>Match Report</td>\n",
       "      <td>Tottenham won on penalty kicks following norma...</td>\n",
       "    </tr>\n",
       "  </tbody>\n",
       "</table>\n",
       "</div>"
      ],
      "text/plain": [
       "     time            comp         round dayofweek venue result goals_for  \\\n",
       "0  20:15   Premier League   Matchweek 1       Mon  Away      W         3   \n",
       "1  16:30   Premier League   Matchweek 2       Sun  Home      L         0   \n",
       "2  19:45          EFL Cup   Third round       Wed  Home      W         6   \n",
       "3  17:30   Premier League   Matchweek 3       Sat  Away      D         3   \n",
       "4  19:45          EFL Cup  Fourth round       Tue  Away      L     1 (4)   \n",
       "\n",
       "  goals_against   opponent  xg_for  xg_against  possession attendance  \\\n",
       "0             1   Brighton     1.2         1.4        47.0        NaN   \n",
       "1             2  Liverpool     1.0         2.6        39.0        NaN   \n",
       "2             0   Barnsley     NaN         NaN        69.0        NaN   \n",
       "3             3  West Brom     2.2         1.0        75.0        NaN   \n",
       "4         1 (5)  Tottenham     NaN         NaN        63.0        NaN   \n",
       "\n",
       "             captain formation        referee  match_report  \\\n",
       "0           Jorginho   4-2-2-2   Craig Pawson  Match Report   \n",
       "1           Jorginho     4-3-3   Paul Tierney  Match Report   \n",
       "2  César Azpilicueta   4-2-3-1    Darren Bond  Match Report   \n",
       "3       Thiago Silva   4-2-3-1  Jonathan Moss  Match Report   \n",
       "4  César Azpilicueta   4-2-3-1      Lee Mason  Match Report   \n",
       "\n",
       "                                               notes  \n",
       "0                                                NaN  \n",
       "1                                                NaN  \n",
       "2                                                NaN  \n",
       "3                                                NaN  \n",
       "4  Tottenham won on penalty kicks following norma...  "
      ]
     },
     "execution_count": 5,
     "metadata": {},
     "output_type": "execute_result"
    }
   ],
   "source": [
    "scores.head()"
   ]
  },
  {
   "cell_type": "markdown",
   "metadata": {},
   "source": [
    "First we will plot the overall win percentage for the 2020-21 season."
   ]
  },
  {
   "cell_type": "code",
   "execution_count": 6,
   "metadata": {},
   "outputs": [
    {
     "data": {
      "text/plain": [
       "(1.0, 25.0)"
      ]
     },
     "execution_count": 6,
     "metadata": {},
     "output_type": "execute_result"
    },
    {
     "data": {
      "image/png": "[encoded data removed]",
      "text/plain": [
       "<Figure size 432x288 with 1 Axes>"
      ]
     },
     "metadata": {
      "needs_background": "light"
     },
     "output_type": "display_data"
    }
   ],
   "source": [
    "# Get win running win percentage\n",
    "wins = 0\n",
    "win_ratio = list()\n",
    "for idx, result in enumerate(scores[\"result\"]):\n",
    "    if result == 'W':\n",
    "        wins += 1\n",
    "    win_ratio.append(wins / (idx+1))\n",
    "\n",
    "# Plot win percentage\n",
    "fig, ax = plt.subplots()\n",
    "ax.set_title(\"Win Percentage (All compeition)\")\n",
    "ax.plot(range(1, len(win_ratio)+1), win_ratio)\n",
    "ax.set_xlabel(\"Matchday\")\n",
    "ax.set_ylabel(\"Win Percentage\")\n",
    "ax.set_xlim((1, len(win_ratio)+1))"
   ]
  },
  {
   "cell_type": "code",
   "execution_count": 7,
   "metadata": {},
   "outputs": [
    {
     "data": {
      "text/plain": [
       "(1.0, 17.0)"
      ]
     },
     "execution_count": 7,
     "metadata": {},
     "output_type": "execute_result"
    },
    {
     "data": {
      "image/png": "[encoded data removed]",
      "text/plain": [
       "<Figure size 432x288 with 1 Axes>"
      ]
     },
     "metadata": {
      "needs_background": "light"
     },
     "output_type": "display_data"
    }
   ],
   "source": [
    "pl_scores = scores.loc[scores[\"comp\"] == \"Premier League\"]\n",
    "# Get win running win percentage\n",
    "wins = 0\n",
    "win_ratio = list()\n",
    "for idx, result in enumerate(pl_scores[\"result\"]):\n",
    "    if result == 'W':\n",
    "        wins += 1\n",
    "    win_ratio.append(wins / (idx+1))\n",
    "\n",
    "# Plot win percentage\n",
    "fig, ax = plt.subplots()\n",
    "ax.set_title(\"Premier League Win Percentage\")\n",
    "ax.plot(range(1, len(win_ratio)+1), win_ratio)\n",
    "ax.set_xlabel(\"Matchday\")\n",
    "ax.set_ylabel(\"Win Percentage\")\n",
    "ax.set_xlim((1, len(win_ratio)+1))"
   ]
  },
  {
   "cell_type": "markdown",
   "metadata": {},
   "source": [
    "Next let's plot the expected goals for and against.  To show how that correlates to the overall result, we will plot wins by blue, draws by black, and losses by red."
   ]
  },
  {
   "cell_type": "code",
   "execution_count": 22,
   "metadata": {},
   "outputs": [
    {
     "data": {
      "image/png": "[encoded data removed]",
      "text/plain": [
       "<Figure size 360x360 with 1 Axes>"
      ]
     },
     "metadata": {
      "needs_background": "light"
     },
     "output_type": "display_data"
    }
   ],
   "source": [
    "def result_color(result):\n",
    "    \"\"\"Dictionary to determine marker color by result\"\"\"\n",
    "    color_dict = {\n",
    "        \"W\": \"blue\",\n",
    "        \"D\": \"black\",\n",
    "        \"L\": \"red\",\n",
    "    }\n",
    "    \n",
    "    return color_dict[result]\n",
    "\n",
    "# Get colors\n",
    "colors = list()\n",
    "for result in scores[\"result\"]:\n",
    "    colors.append(result_color(result))\n",
    "\n",
    "# Plot win percentage\n",
    "fig, ax = plt.subplots(figsize=(5,5))\n",
    "ax.set_title(\"xG versus xGA\")\n",
    "ax.scatter(scores[\"xg_for\"], scores[\"xg_against\"], color=colors)\n",
    "ax.set_xlabel(\"xG For\")\n",
    "ax.set_ylabel(\"xG Against\")\n",
    "ax.set_xlim((0, 4))\n",
    "ax.set_ylim((0, 4))\n",
    "ax.yaxis.set_major_locator(MultipleLocator(1))\n",
    "ax.xaxis.set_major_locator(MultipleLocator(1))"
   ]
  },
  {
   "cell_type": "code",
   "execution_count": 24,
   "metadata": {},
   "outputs": [
    {
     "data": {
      "image/png": "[encoded data removed]",
      "text/plain": [
       "<Figure size 360x360 with 1 Axes>"
      ]
     },
     "metadata": {
      "needs_background": "light"
     },
     "output_type": "display_data"
    }
   ],
   "source": [
    "# Plot win percentage\n",
    "fig, ax = plt.subplots(figsize=(5,5))\n",
    "ax.set_title(\"xG versus Possession\")\n",
    "ax.scatter(scores[\"xg_for\"], scores[\"possession\"], color=colors)\n",
    "ax.set_xlabel(\"xG For\")\n",
    "ax.set_ylabel(\"Possession\")\n",
    "ax.set_xlim((0, 4))\n",
    "ax.xaxis.set_major_locator(MultipleLocator(1))"
   ]
  },
  {
   "cell_type": "code",
   "execution_count": null,
   "metadata": {},
   "outputs": [],
   "source": []
  }
 ],
 "metadata": {
  "kernelspec": {
   "display_name": "Python 3",
   "language": "python",
   "name": "python3"
  },
  "language_info": {
   "codemirror_mode": {
    "name": "ipython",
    "version": 3
   },
   "file_extension": ".py",
   "mimetype": "text/x-python",
   "name": "python",
   "nbconvert_exporter": "python",
   "pygments_lexer": "ipython3",
   "version": "3.7.8"
  }
 },
 "nbformat": 4,
 "nbformat_minor": 4
}
